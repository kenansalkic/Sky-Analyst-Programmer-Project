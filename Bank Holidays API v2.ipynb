{
 "cells": [
  {
   "cell_type": "code",
   "execution_count": null,
   "id": "ab48828b",
   "metadata": {
    "scrolled": true
   },
   "outputs": [],
   "source": [
    "import pandas as pd\n",
    "import numpy as np\n",
    "import json\n",
    "from urllib.request import urlopen\n",
    "import datetime #to change date format\n",
    "import re #regex\n",
    "import sqlalchemy\n",
    "import sqlite3"
   ]
  },
  {
   "cell_type": "code",
   "execution_count": null,
   "id": "9eb8c2ca",
   "metadata": {},
   "outputs": [],
   "source": [
    "# store the API url \n",
    "\n",
    "url = 'https://www.gov.uk/bank-holidays.json'"
   ]
  },
  {
   "cell_type": "code",
   "execution_count": null,
   "id": "29c16f2b",
   "metadata": {},
   "outputs": [],
   "source": [
    "# store the response of URL\n",
    "\n",
    "response = urlopen(url)"
   ]
  },
  {
   "cell_type": "code",
   "execution_count": null,
   "id": "d0849c50",
   "metadata": {},
   "outputs": [],
   "source": [
    "# storing the JSON response \n",
    "\n",
    "data_json = json.loads(response.read())"
   ]
  },
  {
   "cell_type": "code",
   "execution_count": null,
   "id": "29999497",
   "metadata": {},
   "outputs": [],
   "source": [
    "# print the json response\n",
    "\n",
    "data_json"
   ]
  },
  {
   "cell_type": "code",
   "execution_count": null,
   "id": "413cea20",
   "metadata": {},
   "outputs": [],
   "source": [
    "# use .json_normalize to attempt to shape the json response into a flat table\n",
    "\n",
    "data_norm = pd.json_normalize(data_json)"
   ]
  },
  {
   "cell_type": "code",
   "execution_count": null,
   "id": "cc0fd70f",
   "metadata": {},
   "outputs": [],
   "source": [
    "# view the attempted normalised table\n",
    "\n",
    "data_norm"
   ]
  },
  {
   "cell_type": "code",
   "execution_count": null,
   "id": "ff7d16ef",
   "metadata": {},
   "outputs": [],
   "source": [
    "# get a list of the column names\n",
    "\n",
    "column_names = list(data_norm.columns)"
   ]
  },
  {
   "cell_type": "code",
   "execution_count": null,
   "id": "6844036d",
   "metadata": {},
   "outputs": [],
   "source": [
    "# view the list of column names\n",
    "\n",
    "column_names"
   ]
  },
  {
   "cell_type": "code",
   "execution_count": null,
   "id": "56b3797c",
   "metadata": {},
   "outputs": [],
   "source": [
    "# create a list of divisions\n",
    "\n",
    "divisions_list = [column_names[1], column_names[3], column_names[5]]"
   ]
  },
  {
   "cell_type": "code",
   "execution_count": null,
   "id": "0fac39d8",
   "metadata": {},
   "outputs": [],
   "source": [
    "# view the divisions list\n",
    "\n",
    "divisions_list"
   ]
  },
  {
   "cell_type": "code",
   "execution_count": null,
   "id": "5d14e9b3",
   "metadata": {},
   "outputs": [],
   "source": [
    "# make a global variable to be used in connecting to the SQL database\n",
    "\n",
    "global engine \n",
    "engine = sqlalchemy.create_engine('sqlite:///BankHolidaysAPI_v2.db')"
   ]
  },
  {
   "cell_type": "code",
   "execution_count": null,
   "id": "33f983d3",
   "metadata": {},
   "outputs": [],
   "source": [
    "# connect to the database\n",
    "\n",
    "conn = sqlite3.connect('BankHolidaysAPI_v2.db')"
   ]
  },
  {
   "cell_type": "code",
   "execution_count": null,
   "id": "1dc531cf",
   "metadata": {},
   "outputs": [],
   "source": [
    "# function to cleanse the data:\n",
    "    # save the function input as division_name\n",
    "    # subset the normalised dataframe depending on the division name and turn it into a list datatype\n",
    "    # transpose the subsetted dataframe\n",
    "    # change the only column in the transposed dataframe to string\n",
    "    # remove {} brackets at start and end of each row\n",
    "    # text-to-column split by comma\n",
    "    # remove the unnecessary leading and trailing characters for each row\n",
    "    # rename each column with more appropriate names\n",
    "    # add a column called Division based on the division name used as funcion input\n",
    "    # save each cleansed dataframe to a SQL database\n",
    "    # remove unwanted trailing characters from Division column\n",
    "\n",
    "def cleanse(x):\n",
    "    division_name = x\n",
    "    data_x = pd.DataFrame(data_norm[x].values.tolist(), index = data_norm.index)\n",
    "    data_x_T = data_x.T\n",
    "    data_x_T[0] = data_x_T[0].astype(str)\n",
    "    data_x_T[0] = data_x_T[0].str.replace('[{}]', '')\n",
    "    x = data_x_T[0].str.split(',', expand = True)\n",
    "    x[0] = x[0].str[10:]\n",
    "    x[0] = x[0].str[:-1]\n",
    "    x[1] = x[1].str[10:]\n",
    "    x[1] = x[1].str[:-1]\n",
    "    x[2] = x[2].str[11:]\n",
    "    x[2] = x[2].str[:-1]\n",
    "    x[3] = x[3].str[11:]\n",
    "    df_x = x.rename(columns = {0:'Title', 1:'Date', 2:'Notes', 3:'Bunting'})\n",
    "    df_x['Division'] = division_name[:-7]\n",
    "    df_x['Date'] = pd.to_datetime(df_x['Date']).dt.strftime('%d-%m-%Y')\n",
    "    return df_x.to_sql(division_name, engine, if_exists = 'replace', index = False)"
   ]
  },
  {
   "cell_type": "code",
   "execution_count": null,
   "id": "6fac9b6e",
   "metadata": {},
   "outputs": [],
   "source": [
    "# use list of divisions to parse through the cleanse() function i.e. perform cleanse() function for each division\n",
    "\n",
    "for d in divisions_list:\n",
    "    cleanse(d)"
   ]
  },
  {
   "cell_type": "code",
   "execution_count": null,
   "id": "5eeca486",
   "metadata": {
    "scrolled": true
   },
   "outputs": [],
   "source": [
    "# view the tables in the SQL database\n",
    "\n",
    "con = sqlite3.connect('BankHolidaysAPI_v2.db')\n",
    "cursor = con.cursor()\n",
    "cursor.execute(\"SELECT name FROM sqlite_master WHERE type='table';\")\n",
    "print(cursor.fetchall())"
   ]
  },
  {
   "cell_type": "code",
   "execution_count": null,
   "id": "65341c03",
   "metadata": {
    "scrolled": true
   },
   "outputs": [],
   "source": [
    "# example table\n",
    "\n",
    "ew = pd.read_sql('england-and-wales.events', engine)\n",
    "s = pd.read_sql('scotland.events', engine)\n",
    "ni = pd.read_sql('northern-ireland.events', engine)\n",
    "\n",
    "ew"
   ]
  },
  {
   "cell_type": "code",
   "execution_count": null,
   "id": "dbff5916",
   "metadata": {},
   "outputs": [],
   "source": [
    "len(ew)+len(s)+len(ni)"
   ]
  },
  {
   "cell_type": "code",
   "execution_count": null,
   "id": "8bf1adcc",
   "metadata": {},
   "outputs": [],
   "source": [
    "Data_SQL = pd.concat([ew, s, ni])"
   ]
  }
 ],
 "metadata": {
  "kernelspec": {
   "display_name": "Python 3 (ipykernel)",
   "language": "python",
   "name": "python3"
  },
  "language_info": {
   "codemirror_mode": {
    "name": "ipython",
    "version": 3
   },
   "file_extension": ".py",
   "mimetype": "text/x-python",
   "name": "python",
   "nbconvert_exporter": "python",
   "pygments_lexer": "ipython3",
   "version": "3.7.3"
  }
 },
 "nbformat": 4,
 "nbformat_minor": 5
}
